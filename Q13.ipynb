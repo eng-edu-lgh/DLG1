{
  "nbformat": 4,
  "nbformat_minor": 0,
  "metadata": {
    "colab": {
      "provenance": [],
      "authorship_tag": "ABX9TyNC/IyRyZ+WAKmFhbumvdmZ",
      "include_colab_link": true
    },
    "kernelspec": {
      "name": "python3",
      "display_name": "Python 3"
    },
    "language_info": {
      "name": "python"
    }
  },
  "cells": [
    {
      "cell_type": "markdown",
      "metadata": {
        "id": "view-in-github",
        "colab_type": "text"
      },
      "source": [
        "<a href=\"https://colab.research.google.com/github/eng-edu-lgh/DLG1/blob/main/Q13.ipynb\" target=\"_parent\"><img src=\"https://colab.research.google.com/assets/colab-badge.svg\" alt=\"Open In Colab\"/></a>"
      ]
    },
    {
      "cell_type": "markdown",
      "source": [
        "Q13. Create a list called numbers. Using the random.randint() function, add five random integers to it. Then, print the list.\n",
        "Note: You should not write the random number on your own. The code should take the random number and add it to your list."
      ],
      "metadata": {
        "id": "uK-nYXe_e22w"
      }
    },
    {
      "cell_type": "code",
      "execution_count": 1,
      "metadata": {
        "colab": {
          "base_uri": "https://localhost:8080/"
        },
        "id": "t5tvTq6re01C",
        "outputId": "f9514e39-7eed-4e1e-f341-13801c097f33"
      },
      "outputs": [
        {
          "output_type": "stream",
          "name": "stdout",
          "text": [
            "[97, 24, 35, 13, 8]\n"
          ]
        }
      ],
      "source": [
        "import random\n",
        "\n",
        "numbers = []\n",
        "\n",
        "for _ in range(5):\n",
        "    random_num = random.randint(1, 100)\n",
        "    numbers.append(random_num)\n",
        "\n",
        "print(numbers)"
      ]
    }
  ]
}