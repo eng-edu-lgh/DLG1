{
  "nbformat": 4,
  "nbformat_minor": 0,
  "metadata": {
    "colab": {
      "provenance": [],
      "authorship_tag": "ABX9TyNVm9qb2uzGRvPQObBNcppI",
      "include_colab_link": true
    },
    "kernelspec": {
      "name": "python3",
      "display_name": "Python 3"
    },
    "language_info": {
      "name": "python"
    }
  },
  "cells": [
    {
      "cell_type": "markdown",
      "metadata": {
        "id": "view-in-github",
        "colab_type": "text"
      },
      "source": [
        "<a href=\"https://colab.research.google.com/github/eng-edu-lgh/DLG1/blob/main/Q14.ipynb\" target=\"_parent\"><img src=\"https://colab.research.google.com/assets/colab-badge.svg\" alt=\"Open In Colab\"/></a>"
      ]
    },
    {
      "cell_type": "markdown",
      "source": [
        "Q14. [1] Create a list of your favorite colors called color_list with at least three colors. [2] Use a for loop to iterate through the list and print each color."
      ],
      "metadata": {
        "id": "o9_bcMdoeOmU"
      }
    },
    {
      "cell_type": "code",
      "execution_count": 1,
      "metadata": {
        "id": "ME0_Aj5_eLDC",
        "outputId": "cbd962e9-99ea-4bfc-e0d7-833c815e4554",
        "colab": {
          "base_uri": "https://localhost:8080/"
        }
      },
      "outputs": [
        {
          "output_type": "stream",
          "name": "stdout",
          "text": [
            "blue\n",
            "pink\n",
            "white\n"
          ]
        }
      ],
      "source": [
        "color_list = ['blue', 'pink', 'white']\n",
        "\n",
        "for x in color_list :\n",
        "  print(x)"
      ]
    }
  ]
}